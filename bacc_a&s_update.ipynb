{
  "nbformat": 4,
  "nbformat_minor": 0,
  "metadata": {
    "colab": {
      "name": "scratchpad",
      "provenance": [],
      "include_colab_link": true
    },
    "kernelspec": {
      "display_name": "Python 3",
      "name": "python3"
    }
  },
  "cells": [
    {
      "cell_type": "markdown",
      "metadata": {
        "id": "view-in-github",
        "colab_type": "text"
      },
      "source": [
        "<a href=\"https://colab.research.google.com/github/AlexMcClung/The-Sustainable-University/blob/master/bacc_a%26s_update.ipynb\" target=\"_parent\"><img src=\"https://colab.research.google.com/assets/colab-badge.svg\" alt=\"Open In Colab\"/></a>"
      ]
    },
    {
      "cell_type": "code",
      "metadata": {
        "colab_type": "code",
        "id": "lIYdn1woOS1n",
        "colab": {}
      },
      "source": [
        "import pandas as pd"
      ],
      "execution_count": 1,
      "outputs": []
    },
    {
      "cell_type": "code",
      "metadata": {
        "id": "-lMKOFYHjUhe",
        "colab_type": "code",
        "colab": {}
      },
      "source": [
        "df = pd.read_csv('https://github.com/AlexMcClung/The-Sustainable-University/raw/master/ipeds_bacc_a%26s_sustain_data.csv')"
      ],
      "execution_count": 7,
      "outputs": []
    },
    {
      "cell_type": "code",
      "metadata": {
        "id": "uBOkGO8ejrew",
        "colab_type": "code",
        "colab": {}
      },
      "source": [
        "# Equity ratio = total net assets (assets – liabilities) divided by total assets\n",
        "\n",
        "df['eq_fy18'] = df['Total net assets (F1718_F2)'] / df['Total assets (F1718_F2)']\n",
        "\n",
        "df['eq_fy17'] = df['Total net assets (F1617_F2_RV)'] /  df['Total assets (F1617_F2_RV)']\n",
        "\n",
        "\n",
        "#  The expense ratio is calculated by dividing an organization’s expenses by its revenues\n",
        "\n",
        "df['ex_fy18'] = df['Total expenses-Total amount (F1718_F2)'] /  df['Total revenues and investment return - Total (F1718_F2)']\n",
        "\n",
        "df['ex_fy17'] = df['Total expenses-Total amount (F1617_F2_RV)'] / df['Total revenues and investment return - Total (F1617_F2_RV)']"
      ],
      "execution_count": 9,
      "outputs": []
    },
    {
      "cell_type": "code",
      "metadata": {
        "id": "YZrHzAu6ly4M",
        "colab_type": "code",
        "colab": {
          "base_uri": "https://localhost:8080/",
          "height": 282
        },
        "outputId": "a74826ec-003e-40dd-c304-c11acbe3b868"
      },
      "source": [
        "df['eq_fy18'].hist()"
      ],
      "execution_count": 10,
      "outputs": [
        {
          "output_type": "execute_result",
          "data": {
            "text/plain": [
              "<matplotlib.axes._subplots.AxesSubplot at 0x7fc1e3b2fa58>"
            ]
          },
          "metadata": {
            "tags": []
          },
          "execution_count": 10
        },
        {
          "output_type": "display_data",
          "data": {
            "image/png": "[encoded data removed]",
            "text/plain": [
              "<Figure size 432x288 with 1 Axes>"
            ]
          },
          "metadata": {
            "tags": [],
            "needs_background": "light"
          }
        }
      ]
    },
    {
      "cell_type": "code",
      "metadata": {
        "id": "xtQzSLQ6l7ln",
        "colab_type": "code",
        "colab": {
          "base_uri": "https://localhost:8080/",
          "height": 282
        },
        "outputId": "f494ef03-c85d-4028-cfea-d3fa28ca2440"
      },
      "source": [
        "df['ex_fy18'].hist()"
      ],
      "execution_count": 11,
      "outputs": [
        {
          "output_type": "execute_result",
          "data": {
            "text/plain": [
              "<matplotlib.axes._subplots.AxesSubplot at 0x7fc1e3666c18>"
            ]
          },
          "metadata": {
            "tags": []
          },
          "execution_count": 11
        },
        {
          "output_type": "display_data",
          "data": {
            "image/png": "[encoded data removed]",
            "text/plain": [
              "<Figure size 432x288 with 1 Axes>"
            ]
          },
          "metadata": {
            "tags": [],
            "needs_background": "light"
          }
        }
      ]
    }
  ]
}